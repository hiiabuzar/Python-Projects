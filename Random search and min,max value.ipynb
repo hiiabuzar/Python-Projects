{
 "cells": [
  {
   "cell_type": "code",
   "execution_count": 13,
   "id": "9211ccd3",
   "metadata": {},
   "outputs": [],
   "source": [
    "import random"
   ]
  },
  {
   "cell_type": "code",
   "execution_count": 8,
   "id": "b997b45c",
   "metadata": {},
   "outputs": [],
   "source": [
    "initial_board=[[2,8,3],[1,6,4],[7,0,5]]\n",
    "goal_state=[[1,2,3],[8,0,4],[7,6,5]]\n",
    "\n",
    "def find_blank_tile(board):\n",
    "    for i in range(3):\n",
    "        for j in range(3):\n",
    "            if board[i][j]==0:\n",
    "                return i,j\n",
    "def is_goal_state(board,goal_state):\n",
    "    return board==goal_state\n",
    "def move_blank_tile(board,direction):\n",
    "    i,j = find_blank_tile(board)\n",
    "    if direction == 'up' and i>0:\n",
    "        board[i][j],board[i-1][j]=board[i-1][j],board[i][j]\n",
    "        return True \n",
    "    elif direction == 'down' and i<2:\n",
    "        board[i][j],board[i+1][j]=board[i+1][j],board[i][j]\n",
    "        return True\n",
    "    elif direction == 'left' and j>0:\n",
    "        board[i][j],board[i][j-1]=board[i][j-1],board[i][j]\n",
    "        return True\n",
    "    elif direction == 'right' and j<2:\n",
    "        board[i][j],board[i][j+1]=board[i][j+1],board[i][j]\n",
    "        return True\n",
    "def random_search(initial_board,goal_state):\n",
    "    current_board=initial_board\n",
    "    num_moves=0\n",
    "    \n",
    "    while not is_goal_state(current_board,goal_state):\n",
    "        direction =['up','down','left','right']\n",
    "        random_direction=random.choice(direction)\n",
    "        \n",
    "        if move_blank_tile(current_board,random_direction):\n",
    "            num_moves+=1\n",
    "        if is_goal_state(current_board,goal_state):\n",
    "            return current_board,num_moves\n",
    "solved_board,num_moves = random_search(initial_board,goal_state)"
   ]
  },
  {
   "cell_type": "code",
   "execution_count": 9,
   "id": "2395dec8",
   "metadata": {},
   "outputs": [
    {
     "name": "stdout",
     "output_type": "stream",
     "text": [
      "[[1, 2, 3], [8, 0, 4], [7, 6, 5]] \n",
      " 22891\n"
     ]
    }
   ],
   "source": [
    "print(solved_board,\"\\n\",num_moves)"
   ]
  },
  {
   "cell_type": "code",
   "execution_count": 16,
   "id": "c4a83d68",
   "metadata": {},
   "outputs": [
    {
     "name": "stdout",
     "output_type": "stream",
     "text": [
      "Minimum found at x =  -5.574102357174812\n",
      "Minimum value =  87.43764360522285\n"
     ]
    }
   ],
   "source": [
    "def quadratic_function(x):\n",
    "    return 2*x**2-5*x+x+3\n",
    "def find_minimum_random_search(max_iterations=1000):\n",
    "    best_x=None\n",
    "    best_value=float('inf')\n",
    "    \n",
    "    for _ in range(max_iterations):\n",
    "        x=random.uniform(-10,10)\n",
    "        value=quadratic_function(x)\n",
    "        if value<best_value:\n",
    "            best_x=x\n",
    "            best_value=value\n",
    "        return best_x,best_value\n",
    "minimum_x,minimum_value=find_minimum_random_search()\n",
    "print(\"Minimum found at x = \",minimum_x)\n",
    "print(\"Minimum value = \",minimum_value)\n",
    "    "
   ]
  },
  {
   "cell_type": "code",
   "execution_count": null,
   "id": "9695621e",
   "metadata": {},
   "outputs": [],
   "source": []
  }
 ],
 "metadata": {
  "kernelspec": {
   "display_name": "Python 3 (ipykernel)",
   "language": "python",
   "name": "python3"
  },
  "language_info": {
   "codemirror_mode": {
    "name": "ipython",
    "version": 3
   },
   "file_extension": ".py",
   "mimetype": "text/x-python",
   "name": "python",
   "nbconvert_exporter": "python",
   "pygments_lexer": "ipython3",
   "version": "3.11.5"
  }
 },
 "nbformat": 4,
 "nbformat_minor": 5
}
