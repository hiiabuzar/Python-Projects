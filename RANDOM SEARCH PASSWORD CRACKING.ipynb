{
 "cells": [
  {
   "cell_type": "code",
   "execution_count": 1,
   "id": "c4d673c7",
   "metadata": {},
   "outputs": [],
   "source": [
    "import random\n",
    "import string"
   ]
  },
  {
   "cell_type": "code",
   "execution_count": 11,
   "id": "98799a17",
   "metadata": {},
   "outputs": [
    {
     "name": "stdout",
     "output_type": "stream",
     "text": [
      "Password cracked :  MARI\n",
      "Attempts :  40683082\n"
     ]
    }
   ],
   "source": [
    "\n",
    "def generate_possible_passwords(length):\n",
    "        characters=string.ascii_letters+string.digits+string.punctuation #consider all characters \n",
    "        password = ''.join(random.choice(characters) for _ in range(length))\n",
    "        return password\n",
    "def crack_password(target_password):\n",
    "    attempts = 0\n",
    "    while True:\n",
    "        attempts+=1\n",
    "        guess = generate_possible_passwords(len(target_password))\n",
    "        if guess==target_password:\n",
    "            print(\"Password cracked : \",guess)\n",
    "            print(\"Attempts : \",attempts)\n",
    "            break\n",
    "target_password=\"MARI\"\n",
    "crack_password(target_password)"
   ]
  },
  {
   "cell_type": "code",
   "execution_count": null,
   "id": "36b06b11",
   "metadata": {},
   "outputs": [],
   "source": []
  },
  {
   "cell_type": "code",
   "execution_count": null,
   "id": "a55da597",
   "metadata": {},
   "outputs": [],
   "source": []
  },
  {
   "cell_type": "code",
   "execution_count": null,
   "id": "b8caf648",
   "metadata": {},
   "outputs": [],
   "source": []
  }
 ],
 "metadata": {
  "kernelspec": {
   "display_name": "Python 3 (ipykernel)",
   "language": "python",
   "name": "python3"
  },
  "language_info": {
   "codemirror_mode": {
    "name": "ipython",
    "version": 3
   },
   "file_extension": ".py",
   "mimetype": "text/x-python",
   "name": "python",
   "nbconvert_exporter": "python",
   "pygments_lexer": "ipython3",
   "version": "3.11.5"
  }
 },
 "nbformat": 4,
 "nbformat_minor": 5
}
