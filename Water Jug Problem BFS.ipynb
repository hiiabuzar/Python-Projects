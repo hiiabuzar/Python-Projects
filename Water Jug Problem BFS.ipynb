{
 "cells": [
  {
   "cell_type": "code",
   "execution_count": 7,
   "id": "c2d5f49d",
   "metadata": {},
   "outputs": [],
   "source": [
    "from collections import deque"
   ]
  },
  {
   "cell_type": "code",
   "execution_count": 39,
   "id": "5f5e0fc5",
   "metadata": {},
   "outputs": [
    {
     "name": "stdout",
     "output_type": "stream",
     "text": [
      "Current State: (0, 0)\n",
      "Current State: (4, 0)\n",
      "Current State: (0, 3)\n",
      "Current State: (4, 3)\n",
      "Current State: (1, 3)\n",
      "Current State: (0, 0)\n",
      "Current State: (4, 3)\n",
      "Current State: (3, 0)\n",
      "Current State: (0, 0)\n",
      "Current State: (4, 3)\n",
      "Current State: (4, 3)\n",
      "Current State: (0, 3)\n",
      "Current State: (4, 0)\n",
      "Current State: (4, 3)\n",
      "Current State: (1, 3)\n",
      "Current State: (4, 0)\n",
      "Current State: (0, 3)\n",
      "Current State: (1, 0)\n",
      "Current State: (4, 0)\n",
      "Current State: (3, 3)\n",
      "Current State: (0, 3)\n",
      "Current State: (0, 0)\n",
      "Current State: (4, 0)\n",
      "Current State: (1, 3)\n",
      "Current State: (0, 0)\n",
      "Current State: (4, 3)\n",
      "Current State: (3, 3)\n",
      "Current State: (4, 2)\n",
      "Success\n",
      "failure\n"
     ]
    }
   ],
   "source": [
    "from collections import deque \n",
    "\n",
    "def BFS_S(cap1, cap2, target):\n",
    "    closed1 = set()\n",
    "    open1 = deque()\n",
    "    open1.append((0, 0))\n",
    "    \n",
    "    while len(open1) != 0:\n",
    "        current_state = open1.popleft()\n",
    "        print(\"Current State:\", current_state)\n",
    "        \n",
    "        if current_state in closed1:\n",
    "            if y==target:\n",
    "                print(\"Current State:(\",y,\",0)\")\n",
    "                print(\"Success\")\n",
    "                return True\n",
    "            continue\n",
    "        \n",
    "        closed1.add(current_state)\n",
    "        \n",
    "        x, y = current_state\n",
    "        \n",
    "        if x == target or y == target:\n",
    "            print(\"Success\")\n",
    "            break\n",
    "            \n",
    "        # Fill in 1st jug\n",
    "        if x < cap1:\n",
    "            open1.append((cap1, y))\n",
    "            \n",
    "        # Fill in the 2nd jug\n",
    "        if y < cap2:\n",
    "            open1.append((x, cap2))\n",
    "            \n",
    "        # Pour from 1 to 2\n",
    "        if x + y >= cap2 and x > 0:\n",
    "            a = min(cap1, cap2 - y)\n",
    "            open1.append((x - a, y + a))\n",
    "            \n",
    "        # Pour from 2 to 1\n",
    "        if x + y >= cap2 and y > 0:\n",
    "            a = min(cap2, cap1 - x)\n",
    "            open1.append((x + a, y - a))\n",
    "            \n",
    "        # Empty first jug\n",
    "        if x > 0:\n",
    "            open1.append((0, y))\n",
    "            \n",
    "        # Empty second jug \n",
    "        if y > 0:\n",
    "            open1.append((x, 0))\n",
    "            \n",
    "    return \"failure\"\n",
    "\n",
    "# Example usage:\n",
    "result = BFS_S(4, 3, 2)\n",
    "print(result)"
   ]
  },
  {
   "cell_type": "code",
   "execution_count": null,
   "id": "f8af0c6c",
   "metadata": {},
   "outputs": [],
   "source": []
  },
  {
   "cell_type": "code",
   "execution_count": null,
   "id": "ca34e929",
   "metadata": {},
   "outputs": [],
   "source": []
  },
  {
   "cell_type": "code",
   "execution_count": null,
   "id": "422cb522",
   "metadata": {},
   "outputs": [],
   "source": []
  },
  {
   "cell_type": "code",
   "execution_count": null,
   "id": "269e3238",
   "metadata": {},
   "outputs": [],
   "source": []
  },
  {
   "cell_type": "code",
   "execution_count": null,
   "id": "601204ad",
   "metadata": {},
   "outputs": [],
   "source": []
  }
 ],
 "metadata": {
  "kernelspec": {
   "display_name": "Python 3 (ipykernel)",
   "language": "python",
   "name": "python3"
  },
  "language_info": {
   "codemirror_mode": {
    "name": "ipython",
    "version": 3
   },
   "file_extension": ".py",
   "mimetype": "text/x-python",
   "name": "python",
   "nbconvert_exporter": "python",
   "pygments_lexer": "ipython3",
   "version": "3.11.5"
  }
 },
 "nbformat": 4,
 "nbformat_minor": 5
}
